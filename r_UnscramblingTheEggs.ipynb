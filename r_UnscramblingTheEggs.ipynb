{
  "nbformat": 4,
  "nbformat_minor": 0,
  "metadata": {
    "colab": {
      "name": "r/UnscramblingTheEggs",
      "provenance": [],
      "collapsed_sections": [],
      "authorship_tag": "ABX9TyPa0V5pEOQF3IlZjy9kgysb",
      "include_colab_link": true
    },
    "kernelspec": {
      "name": "python3",
      "display_name": "Python 3"
    },
    "language_info": {
      "name": "python"
    }
  },
  "cells": [
    {
      "cell_type": "markdown",
      "metadata": {
        "id": "view-in-github",
        "colab_type": "text"
      },
      "source": [
        "<a href=\"https://colab.research.google.com/github/sertdfyguhi/unscrambled_eggs/blob/main/r_UnscramblingTheEggs.ipynb\" target=\"_parent\"><img src=\"https://colab.research.google.com/assets/colab-badge.svg\" alt=\"Open In Colab\"/></a>"
      ]
    },
    {
      "cell_type": "markdown",
      "metadata": {
        "id": "pLVLGdUBVwht"
      },
      "source": [
        "# Welcome to the r/unscrammbled_eggs decoding notebook\n",
        "\n",
        "\n",
        "\n",
        "Some info to get started:\n",
        "*   [Original Info post](https://www.reddit.com/r/UnscramblingTheEggs/comments/nuuxpu/heres_what_ive_gathered_from_reddit_posts/) \n",
        "*   [Current info post](https://www.reddit.com/r/UnscramblingTheEggs/comments/nv3l3e/current_status_and_summary_of_what_we_know/)\n",
        "*   Blocks or Information are ordered in original post appearance date (not decoding date)\n",
        "*   You should run the first to cells of code to import all libraries and custom algorithms this will avoid errors further on\n",
        "*   Once you have run a code cell you can access all the variables and functions in it from any other cell\n",
        "*   To use this, please download a copy of it and use YOUR copy as a playground\n",
        "*   When you're finished, if you deciphered a post, found something interesting you want to share to the comunity or you just wish to add something to this notebook, send [u/bilihhh](http://www.reddit.com/u/bilihhh) the result or request him for write access to this file so everyone can see the result and build uppon that."
      ]
    },
    {
      "cell_type": "markdown",
      "metadata": {
        "id": "YgioD-phWshB"
      },
      "source": [
        "# Initial code to run first"
      ]
    },
    {
      "cell_type": "code",
      "metadata": {
        "id": "9LQ5tcI9-F9C"
      },
      "source": [
        "#@title Import all necessary libraries - Run this first!\n",
        "from base64 import b64decode\n",
        "from binascii import unhexlify\n",
        "import urllib.request\n",
        "import re"
      ],
      "execution_count": null,
      "outputs": []
    },
    {
      "cell_type": "code",
      "metadata": {
        "id": "jWZcjMQVR3Vy"
      },
      "source": [
        "#@title Custom Algorithms - Recomended to run this second\n",
        "def numsAndDots(string):\n",
        "    hexed = ''\n",
        "    split = string.split('.')\n",
        " \n",
        "    while len(split) > 1:\n",
        "        ascii_code = split[0] + split[1][0]\n",
        "        hexed += chr(int(ascii_code))\n",
        "        split.pop(0)\n",
        "        split[0] = split[0][1:]\n",
        " \n",
        "    return hexed"
      ],
      "execution_count": 4,
      "outputs": []
    },
    {
      "cell_type": "markdown",
      "metadata": {
        "id": "_D3OE5uKW1ur"
      },
      "source": [
        "# Block and information decoding "
      ]
    },
    {
      "cell_type": "code",
      "metadata": {
        "id": "iYkDMRIG-sNa"
      },
      "source": [
        "\n",
        "#@title Information 1 \n",
        "#@markdown [Original Post (Removed)](https://www.reddit.com/r/unscrambled_eggs/comments/nu39qe/information/) <br> [Decode Post](https://www.reddit.com/r/UnscramblingTheEggs/comments/nv1o7z/information_decoded/) <br>Original Text: <br> `MzgzNQ===MzUzMA===MzUzNw===MzEzMTM2=MzkzMA===MzgzMw===MzYzNg===MzEzMDM1=MzkzOA===MzczMQ===MzUzNw===MzEzMDM2=MzkzNw===MzUzMQ===MzczNw===MzEzMDMz=MzgzOQ===MzgzOA===MzczNA===MzEzMDM4=MzczMw===MzczMg===MzgzNg===MzEzMjMy=MzkzMA===MzgzNw===MzEzMjMw=MzEzMDM4=MzkzOQ===MzUzMQ===MzczNw===MzEzMTM1=MzczMw===MzczMQ===MzczNA===MzQzOQ===MzEzMDMw=MzYzNw===MzYzNg===MzEzMjMy=MzkzOA===MzUzMA===MzQzOQ===MzEzMDM4=MzczMw===MzczMQ===MzczMA===MzEzMjMx=MzkzMA===MzgzNw===MzUzMg===MzEzMTMw=MzEzMDMw=MzYzNw===MzUzMg===MzYzMQ==` <br> Decoded text: <br> `Some blocks are useless, but some aren't.` <br> Deciphered by: <br> [u/sertdfyguhi](https://www.reddit.com/u/sertdfyguhi)\n",
        "def decode_Info1(enc):\n",
        "    _enc = re.sub('===|==|=', '==.', enc)\n",
        "    split = _enc.split('.')\n",
        "    split.pop(-1)\n",
        "    res = [chr(int(unhexlify(b64decode(el.encode('ascii'))))) for el in split]\n",
        "    return b64decode(''.join(res).encode('ascii')).decode('ascii')\n",
        " "
      ],
      "execution_count": null,
      "outputs": []
    },
    {
      "cell_type": "code",
      "metadata": {
        "id": "9UjAUfkL-mey",
        "colab": {
          "base_uri": "https://localhost:8080/"
        },
        "outputId": "8be1ded4-1957-413e-c3cb-54f6c9640c5c"
      },
      "source": [
        "#@title BLOCK 2821\n",
        "#@markdown [Original Post](https://www.reddit.com/r/unscrambled_eggs/comments/nuwpyy/block_2821/) <br> [Decode Post](https://www.reddit.com/r/UnscramblingTheEggs/comments/nv0xou/block_2821_decoded/) <br> Original Text: `5.45.15.45.75.15.75.35.45.45.05.410.15.210.15.49.75.45.15.410.05.25.45.55.25.35.75.410.05.55.65.54.85.45.05.410.05.45.25.35.35.44.95.25.55.35.45.25.45.39.75.15.05.45.25.59.75.25.75.25.65.210.15.410.25.45.05.15.15.35.45.55.15.39.75.25.15.25.05.45.75.39.75.35.15.25.05.55.75.29.95.14.95.210.15.49.75.45.15.410.05.25.45.55.25.35.75.410.05.55.65.54.85.45.05.410.05.45.25.35.35.44.95.25.55.35.45.25.45.39.75.15.05.45.25.59.7` <br>Decoded text: <br> `r/UnscramblingTheEggs should be r/ScramblingTheEggs` <br> Deciphered by: <br> [u/sertdfyguhi](https://www.reddit.com/u/sertdfyguhi)\n",
        "def decode_BLOCK2821(string):\n",
        "    hexed = numsAndDots(string)\n",
        "    res = hexed.encode('ascii')\n",
        "    res = unhexlify(res)\n",
        "    res = b64decode(res).decode('ascii')\n",
        "    return res\n",
        "\n",
        "\n",
        "\n",
        "string = \"5.45.15.45.75.15.75.35.45.45.05.410.15.210.15.49.75.45.15.410.05.25.45.55.25.35.75.410.05.55.65.54.85.45.05.410.05.45.25.35.35.44.95.25.55.35.45.25.45.39.75.15.05.45.25.59.75.25.75.25.65.210.15.410.25.45.05.15.15.35.45.55.15.39.75.25.15.25.05.45.75.39.75.35.15.25.05.55.75.29.95.14.95.210.15.49.75.45.15.410.05.25.45.55.25.35.75.410.05.55.65.54.85.45.05.410.05.45.25.35.35.44.95.25.55.35.45.25.45.39.75.15.05.45.25.59.7\"\n",
        "print(decode_BLOCK2821(string))"
      ],
      "execution_count": null,
      "outputs": [
        {
          "output_type": "stream",
          "text": [
            "r/UnscramblingTheEggs should be r/ScramblingTheEggs\n"
          ],
          "name": "stdout"
        }
      ]
    },
    {
      "cell_type": "code",
      "metadata": {
        "colab": {
          "base_uri": "https://localhost:8080/"
        },
        "id": "YraO0W_WUcVT",
        "outputId": "d18ccc85-cebd-4aed-9e15-1e18f29d091c"
      },
      "source": [
        "#@title Information 2\n",
        "#@markdown [Original Post (Removed)](https://www.reddit.com/r/unscrambled_eggs/comments/nuw956/more_information/) <br> [Decode Post](https://www.reddit.com/r/UnscramblingTheEggs/comments/nuwaku/more_info/) <br>Original Text: <br> `V2hvbGUgc3Rvcnkgb2YgdGhpcyBzdWJyZWRkaXQgd2lsbCBiZSBwb3N0ZWQgb25jZSBlbm91Z2ggaW5mb3JtYXRpb24gaXMgZm91bmQu` <br> Decoded text: <br> `Whole story of this subreddit will be posted once enough information is found.` <br> Deciphered by: <br> [u/sertdfyguhi](https://www.reddit.com/u/sertdfyguhi)\n",
        "\n",
        "def decode_Info2(string):\n",
        "  res = b64decode(string)\n",
        "  res = res.decode('ascii')\n",
        "  return res\n",
        "\n",
        "\n",
        "\n",
        "string = \"V2hvbGUgc3Rvcnkgb2YgdGhpcyBzdWJyZWRkaXQgd2lsbCBiZSBwb3N0ZWQgb25jZSBlbm91Z2ggaW5mb3JtYXRpb24gaXMgZm91bmQu\"\n",
        "print(decode_Info2(string))"
      ],
      "execution_count": null,
      "outputs": [
        {
          "output_type": "stream",
          "text": [
            "Whole story of this subreddit will be posted once enough information is found.\n"
          ],
          "name": "stdout"
        }
      ]
    },
    {
      "cell_type": "code",
      "metadata": {
        "colab": {
          "base_uri": "https://localhost:8080/"
        },
        "id": "P5YviJ4Hb7oq",
        "outputId": "98ef45c3-cfa1-4d70-aa79-741c2af2b870"
      },
      "source": [
        "#@title Update 1\n",
        "#@markdown [Original Post (Removed)](https://www.reddit.com/r/unscrambled_eggs/comments/nv6erk/update/) <br> [Decode Post](https://www.reddit.com/r/UnscramblingTheEggs/comments/nv6gdt/new_update_post/) <br>Original text: <br> `432769772066766c7175706820776c6b20756c62726a20727a6e7a666f207472777a79206b63617567206c2f737173656869636d617a632075737520726c64666c686220686b6967787276207679652062706478762e2046617a20616e2766206b767a6c78206f7a78206872756179622076666866727962656d727220797520666920736d6e632073667063632062697a2e` <br>Decoded text: <br> `I've deleted the other pinned posts since u/sertdfyguhi has already decoded the posts. But it's still not enough information so no full story yet.` <br> Deciphered by: <br> [u/Http-ethaniel-me/](https://www.reddit.com/u/Http-ethaniel-me/)\n",
        "\n",
        "def decode_Update1(string):\n",
        "  res = unhexlify(string)\n",
        "  res = res.decode('ascii')\n",
        "  # MISSING VIGENERE CIPHER WHICH IS NOT CODED FOR SIMPLICITY\n",
        "  return res\n",
        "\n",
        "\n",
        "string = \"432769772066766c7175706820776c6b20756c62726a20727a6e7a666f207472777a79206b63617567206c2f737173656869636d617a632075737520726c64666c686220686b6967787276207679652062706478762e2046617a20616e2766206b767a6c78206f7a78206872756179622076666866727962656d727220797520666920736d6e632073667063632062697a2e\"\n",
        "print(decode_Update1(string) + \"\\nThis result must be parsed with a vigenere cipher with key 'UNSCRAMBLEDEGGS'\")"
      ],
      "execution_count": 21,
      "outputs": [
        {
          "output_type": "stream",
          "text": [
            "C'iw fvlquph wlk ulbrj rznzfo trwzy kcaug l/sqsehicmazc usu rldflhb hkigxrv vye bpdxv. Faz an'f kvzlx ozx hruayb vfhfrybemrr yu fi smnc sfpcc biz.\n",
            "This result must be parsed with a vigenere cipher with key 'UNSCRAMBLEDEGGS'\n"
          ],
          "name": "stdout"
        }
      ]
    },
    {
      "cell_type": "code",
      "metadata": {
        "id": "wQMTAUt0-u_f"
      },
      "source": [
        " \n",
        "#@title Information 3\n",
        "#@markdown [Original Post (Removed)](https://www.reddit.com/r/unscrambled_eggs/comments/nuw956/more_information/) <br> [Decode Post](https://www.reddit.com/r/UnscramblingTheEggs/comments/nvr0hz/i_decoded_the_new_information_post/) <br>Original text: <br> [Link](https://gist.githubusercontent.com/unscrambled-eggs/b25cdfbf3bc8fca1431653575f353f47/raw/bcb4fcfc0b0170c0eb4b235064509beda4a941f5/Information.txt) <br>Decoded text: <br> `Congratulations to u/Http-ethaniel-me for deciphering the update post! Here is a some information: it will extend beyond the internet.` <br> Deciphered by: <br> [u/sertdfyguhi](https://www.reddit.com/u/sertdfyguhi)\n",
        "\n",
        "def decode_Info3(string):\n",
        "    res = string.encode('ascii').decode('utf-8')\n",
        "    # base64\n",
        "    res = b64decode(res)\n",
        "    # custom algorithm for other Information. post\n",
        "    res = decode_Info1(res.decode('ascii'))\n",
        "    # hexadecimal\n",
        "    res = unhexlify(res).decode('ascii')\n",
        "    # custom algorithm for BLOCK 2821\n",
        "    res = decode_Info1(numsAndDots(res))\n",
        "    # hexadecimal\n",
        "    res = unhexlify(numsAndDots(res))\n",
        "    res = res.decode('utf-8')\n",
        "    return res\n",
        "\n",
        "\n",
        "url = \"https://gist.githubusercontent.com/unscrambled-eggs/b25cdfbf3bc8fca1431653575f353f47/raw/bcb4fcfc0b0170c0eb4b235064509beda4a941f5/Information.txt\"\n",
        "file = urllib.request.urlopen(url)\n",
        "string = ''\n",
        "\n",
        "for line in file:\n",
        "\tdecoded_line = line.decode(\"utf-8\")\n",
        "\tstring += decoded_line\n",
        "\n",
        "print(decode_Info3(string))"
      ],
      "execution_count": null,
      "outputs": []
    }
  ]
}