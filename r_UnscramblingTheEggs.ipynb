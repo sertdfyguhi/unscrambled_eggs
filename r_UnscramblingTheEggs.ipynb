{
  "nbformat": 4,
  "nbformat_minor": 0,
  "metadata": {
    "colab": {
      "name": "r/UnscramblingTheEggs",
      "provenance": [],
      "collapsed_sections": [],
      "toc_visible": true,
      "authorship_tag": "ABX9TyO4sUjbaG6N0/GAyEL/4kBo",
      "include_colab_link": true
    },
    "kernelspec": {
      "name": "python3",
      "display_name": "Python 3"
    },
    "language_info": {
      "name": "python"
    }
  },
  "cells": [
    {
      "cell_type": "markdown",
      "metadata": {
        "id": "view-in-github",
        "colab_type": "text"
      },
      "source": [
        "<a href=\"https://colab.research.google.com/github/sertdfyguhi/unscrambled_eggs/blob/main/r_UnscramblingTheEggs.ipynb\" target=\"_parent\"><img src=\"https://colab.research.google.com/assets/colab-badge.svg\" alt=\"Open In Colab\"/></a>"
      ]
    },
    {
      "cell_type": "markdown",
      "metadata": {
        "id": "pLVLGdUBVwht"
      },
      "source": [
        "# Welcome to the r/unscrammbled_eggs decoding notebook\n",
        "\n",
        "\n",
        "\n",
        "Some info to get started:\n",
        "*   [Original Info post](https://www.reddit.com/r/UnscramblingTheEggs/comments/nuuxpu/heres_what_ive_gathered_from_reddit_posts/) \n",
        "*   [Current info post](https://www.reddit.com/r/UnscramblingTheEggs/comments/nv3l3e/current_status_and_summary_of_what_we_know/)\n",
        "*   Blocks or Information are ordered in original post appearance date (not decoding date)\n",
        "*   You should run the first to cells of code to import all libraries and custom algorithms this will avoid errors further on\n",
        "*   Once you have run a code cell you can access all the variables and functions in it from any other cell\n",
        "*   To use this, please download a copy of it and use YOUR copy as a playground\n",
        "*   When you're finished, if you deciphered a post, found something interesting you want to share to the comunity or you just wish to add something to this notebook, send [u/bilihhh](http://www.reddit.com/u/bilihhh) the result or request him for write access to this file so everyone can see the result and build uppon that."
      ]
    },
    {
      "cell_type": "markdown",
      "metadata": {
        "id": "YgioD-phWshB"
      },
      "source": [
        "# Initial code to run first"
      ]
    },
    {
      "cell_type": "code",
      "metadata": {
        "id": "9LQ5tcI9-F9C"
      },
      "source": [
        "#@title Import all necessary libraries - Run this first!\n",
        "from base64 import b64decode\n",
        "from binascii import unhexlify\n",
        "import urllib.request\n",
        "import re\n",
        "from string import ascii_letters\n",
        "from textwrap import wrap"
      ],
      "execution_count": 1,
      "outputs": []
    },
    {
      "cell_type": "code",
      "metadata": {
        "id": "jWZcjMQVR3Vy"
      },
      "source": [
        "#@title Custom Algorithms - Recomended to run this second\n",
        "def getGithubGist(url):\n",
        "  file = urllib.request.urlopen(url)\n",
        "  string = ''\n",
        "\n",
        "  for line in file:\n",
        "    decoded_line = line.decode(\"utf-8\")\n",
        "    string += decoded_line  \n",
        "  return string\n",
        "\n",
        "\n",
        "def numsAndDots(string):\n",
        "    hexed = ''\n",
        "    split = string.split('.')\n",
        " \n",
        "    while len(split) > 1:\n",
        "        ascii_code = split[0] + split[1][0]\n",
        "        hexed += chr(int(ascii_code))\n",
        "        split.pop(0)\n",
        "        split[0] = split[0][1:]\n",
        " \n",
        "    return hexed\n",
        "\n",
        "def hex_to_rgb(hex):\n",
        "    hlen = len(hex)\n",
        "    return tuple(int(hex[i:i + hlen // 3], 16) for i in range(0, hlen, hlen // 3))\n",
        "\n",
        "def colorEncodedText(string):\n",
        "  enc = string\n",
        "  colors = [s[:-1] for s in wrap(enc, 7)]\n",
        "\n",
        "  char_lists = []\n",
        "\n",
        "  for i in range(3):\n",
        "      char_l = []\n",
        "      \n",
        "      for color in colors:\n",
        "          rgb = hex_to_rgb(color)\n",
        "          c = chr(rgb[i])\n",
        "          char_l.append(c if c in ascii_letters + ' .,!?' else '')\n",
        "\n",
        "      char_lists.append(char_l)\n",
        "    \n",
        "  new = []\n",
        "\n",
        "  for i in range(len(char_lists[0])):\n",
        "      new.append(list(filter(('').__ne__, [char_lists[2][i], char_lists[1][i], char_lists[0][i]])))\n",
        "\n",
        "  return new\n",
        "\n",
        "def char_frequency(str1):\n",
        "    dict = {}\n",
        "    for n in str1:\n",
        "        keys = dict.keys()\n",
        "        if n in keys:\n",
        "            dict[n] += 1\n",
        "        else:\n",
        "            dict[n] = 1\n",
        "    \n",
        "    dict = sorted(dict.items(), key=lambda x: x[0], reverse=False)\n",
        "\n",
        "    return dict"
      ],
      "execution_count": 2,
      "outputs": []
    },
    {
      "cell_type": "markdown",
      "metadata": {
        "id": "_D3OE5uKW1ur"
      },
      "source": [
        "# Block and information decoding "
      ]
    },
    {
      "cell_type": "code",
      "metadata": {
        "id": "iYkDMRIG-sNa"
      },
      "source": [
        "\n",
        "#@title Information 1 \n",
        "#@markdown [Original Post (Removed)](https://www.reddit.com/r/unscrambled_eggs/comments/nu39qe/information/) <br> [Decode Post](https://www.reddit.com/r/UnscramblingTheEggs/comments/nv1o7z/information_decoded/) <br>Original Text: <br> `MzgzNQ===MzUzMA===MzUzNw===MzEzMTM2=MzkzMA===MzgzMw===MzYzNg===MzEzMDM1=MzkzOA===MzczMQ===MzUzNw===MzEzMDM2=MzkzNw===MzUzMQ===MzczNw===MzEzMDMz=MzgzOQ===MzgzOA===MzczNA===MzEzMDM4=MzczMw===MzczMg===MzgzNg===MzEzMjMy=MzkzMA===MzgzNw===MzEzMjMw=MzEzMDM4=MzkzOQ===MzUzMQ===MzczNw===MzEzMTM1=MzczMw===MzczMQ===MzczNA===MzQzOQ===MzEzMDMw=MzYzNw===MzYzNg===MzEzMjMy=MzkzOA===MzUzMA===MzQzOQ===MzEzMDM4=MzczMw===MzczMQ===MzczMA===MzEzMjMx=MzkzMA===MzgzNw===MzUzMg===MzEzMTMw=MzEzMDMw=MzYzNw===MzUzMg===MzYzMQ==` <br> Decoded text: <br> `Some blocks are useless, but some aren't.` <br> Deciphered by: <br> [u/sertdfyguhi](https://www.reddit.com/u/sertdfyguhi)\n",
        "def decode_Info1(enc):\n",
        "    _enc = re.sub('===|==|=', '==.', enc)\n",
        "    split = _enc.split('.')\n",
        "    split.pop(-1)\n",
        "    res = [chr(int(unhexlify(b64decode(el.encode('ascii'))))) for el in split]\n",
        "    return b64decode(''.join(res).encode('ascii')).decode('ascii')\n",
        " "
      ],
      "execution_count": null,
      "outputs": []
    },
    {
      "cell_type": "code",
      "metadata": {
        "id": "9UjAUfkL-mey"
      },
      "source": [
        "#@title BLOCK 2821\n",
        "#@markdown [Original Post](https://www.reddit.com/r/unscrambled_eggs/comments/nuwpyy/block_2821/) <br> [Decode Post](https://www.reddit.com/r/UnscramblingTheEggs/comments/nv0xou/block_2821_decoded/) <br> Original Text: `5.45.15.45.75.15.75.35.45.45.05.410.15.210.15.49.75.45.15.410.05.25.45.55.25.35.75.410.05.55.65.54.85.45.05.410.05.45.25.35.35.44.95.25.55.35.45.25.45.39.75.15.05.45.25.59.75.25.75.25.65.210.15.410.25.45.05.15.15.35.45.55.15.39.75.25.15.25.05.45.75.39.75.35.15.25.05.55.75.29.95.14.95.210.15.49.75.45.15.410.05.25.45.55.25.35.75.410.05.55.65.54.85.45.05.410.05.45.25.35.35.44.95.25.55.35.45.25.45.39.75.15.05.45.25.59.7` <br>Decoded text: <br> `r/UnscramblingTheEggs should be r/ScramblingTheEggs` <br> Deciphered by: <br> [u/sertdfyguhi](https://www.reddit.com/u/sertdfyguhi)\n",
        "def decode_BLOCK2821(string):\n",
        "    hexed = numsAndDots(string)\n",
        "    res = hexed.encode('ascii')\n",
        "    res = unhexlify(res)\n",
        "    res = b64decode(res).decode('ascii')\n",
        "    return res\n",
        " \n",
        " \n",
        " \n",
        "string = \"5.45.15.45.75.15.75.35.45.45.05.410.15.210.15.49.75.45.15.410.05.25.45.55.25.35.75.410.05.55.65.54.85.45.05.410.05.45.25.35.35.44.95.25.55.35.45.25.45.39.75.15.05.45.25.59.75.25.75.25.65.210.15.410.25.45.05.15.15.35.45.55.15.39.75.25.15.25.05.45.75.39.75.35.15.25.05.55.75.29.95.14.95.210.15.49.75.45.15.410.05.25.45.55.25.35.75.410.05.55.65.54.85.45.05.410.05.45.25.35.35.44.95.25.55.35.45.25.45.39.75.15.05.45.25.59.7\"\n",
        "print(decode_BLOCK2821(string))"
      ],
      "execution_count": null,
      "outputs": []
    },
    {
      "cell_type": "code",
      "metadata": {
        "id": "YraO0W_WUcVT"
      },
      "source": [
        "#@title Information 2\n",
        "#@markdown [Original Post (Removed)](https://www.reddit.com/r/unscrambled_eggs/comments/nuw956/more_information/) <br> [Decode Post](https://www.reddit.com/r/UnscramblingTheEggs/comments/nuwaku/more_info/) <br>Original Text: <br> `V2hvbGUgc3Rvcnkgb2YgdGhpcyBzdWJyZWRkaXQgd2lsbCBiZSBwb3N0ZWQgb25jZSBlbm91Z2ggaW5mb3JtYXRpb24gaXMgZm91bmQu` <br> Decoded text: <br> `Whole story of this subreddit will be posted once enough information is found.` <br> Deciphered by: <br> [u/sertdfyguhi](https://www.reddit.com/u/sertdfyguhi)\n",
        "\n",
        "def decode_Info2(string):\n",
        "  res = b64decode(string)\n",
        "  res = res.decode('ascii')\n",
        "  return res\n",
        "\n",
        "\n",
        "\n",
        "string = \"V2hvbGUgc3Rvcnkgb2YgdGhpcyBzdWJyZWRkaXQgd2lsbCBiZSBwb3N0ZWQgb25jZSBlbm91Z2ggaW5mb3JtYXRpb24gaXMgZm91bmQu\"\n",
        "print(decode_Info2(string))"
      ],
      "execution_count": null,
      "outputs": []
    },
    {
      "cell_type": "code",
      "metadata": {
        "id": "P5YviJ4Hb7oq"
      },
      "source": [
        "#@title Update 1\n",
        "#@markdown [Original Post (Removed)](https://www.reddit.com/r/unscrambled_eggs/comments/nv6erk/update/) <br> [Decode Post](https://www.reddit.com/r/UnscramblingTheEggs/comments/nv6gdt/new_update_post/) <br>Original text: <br> `432769772066766c7175706820776c6b20756c62726a20727a6e7a666f207472777a79206b63617567206c2f737173656869636d617a632075737520726c64666c686220686b6967787276207679652062706478762e2046617a20616e2766206b767a6c78206f7a78206872756179622076666866727962656d727220797520666920736d6e632073667063632062697a2e` <br>Decoded text: <br> `I've deleted the other pinned posts since u/sertdfyguhi has already decoded the posts. But it's still not enough information so no full story yet.` <br> Deciphered by: <br> [u/Http-ethaniel-me/](https://www.reddit.com/u/Http-ethaniel-me/)\n",
        "\n",
        "def decode_Update1(string):\n",
        "  res = unhexlify(string)\n",
        "  res = res.decode('ascii')\n",
        "  # MISSING VIGENERE CIPHER WHICH IS NOT CODED FOR SIMPLICITY\n",
        "  return res\n",
        "\n",
        "\n",
        "string = \"432769772066766c7175706820776c6b20756c62726a20727a6e7a666f207472777a79206b63617567206c2f737173656869636d617a632075737520726c64666c686220686b6967787276207679652062706478762e2046617a20616e2766206b767a6c78206f7a78206872756179622076666866727962656d727220797520666920736d6e632073667063632062697a2e\"\n",
        "print(decode_Update1(string) + \"\\nThis result must be parsed with a vigenere cipher with key 'UNSCRAMBLEDEGGS'\")"
      ],
      "execution_count": null,
      "outputs": []
    },
    {
      "cell_type": "code",
      "metadata": {
        "id": "wQMTAUt0-u_f"
      },
      "source": [
        " \n",
        "#@title Information 3\n",
        "#@markdown [Original Post (Removed)](https://www.reddit.com/r/unscrambled_eggs/comments/nuw956/more_information/) <br> [Decode Post](https://www.reddit.com/r/UnscramblingTheEggs/comments/nvr0hz/i_decoded_the_new_information_post/) <br>Original text: <br> [Link](https://gist.githubusercontent.com/unscrambled-eggs/b25cdfbf3bc8fca1431653575f353f47/raw/bcb4fcfc0b0170c0eb4b235064509beda4a941f5/Information.txt) <br>Decoded text: <br> `Congratulations to u/Http-ethaniel-me for deciphering the update post! Here is a some information: it will extend beyond the internet.` <br> Deciphered by: <br> [u/sertdfyguhi](https://www.reddit.com/u/sertdfyguhi)\n",
        "\n",
        "def decode_Info3(string):\n",
        "    res = string.encode('ascii').decode('utf-8')\n",
        "    # base64\n",
        "    res = b64decode(res)\n",
        "    # custom algorithm for other Information. post\n",
        "    res = decode_Info1(res.decode('ascii'))\n",
        "    # hexadecimal\n",
        "    res = unhexlify(res).decode('ascii')\n",
        "    # custom algorithm for BLOCK 2821\n",
        "    res = decode_Info1(numsAndDots(res))\n",
        "    # hexadecimal\n",
        "    res = unhexlify(numsAndDots(res))\n",
        "    res = res.decode('utf-8')\n",
        "    return res\n",
        "\n",
        "\n",
        "string = getGithubGist(\"https://gist.githubusercontent.com/unscrambled-eggs/b25cdfbf3bc8fca1431653575f353f47/raw/bcb4fcfc0b0170c0eb4b235064509beda4a941f5/Information.txt\")\n",
        "\n",
        "print(decode_Info3(string))"
      ],
      "execution_count": null,
      "outputs": []
    },
    {
      "cell_type": "markdown",
      "metadata": {
        "id": "RXXEbCicckY1"
      },
      "source": [
        "# SUBREDDIT CHANGE\n",
        "From here on, UE's account was banned. Because of that he created a new account ([u/oakeiaycwig_immk](https://www.reddit.com/user/oakeiaycwig_immk/)) and a new self named subreddit. All blocks and posts from now on, unless stated diferently are from [r/oakeiaycwig_immk](https://www.reddit.com/r/oakeiaycwig_immk/)"
      ]
    },
    {
      "cell_type": "code",
      "metadata": {
        "id": "wsLqzJL2chDB"
      },
      "source": [
        "#@title Information 4\n",
        "#@markdown [Original Post](https://www.reddit.com/r/oakeiaycwig_immk/comments/nwlxzh/information/) <br> <b> Not decoded Yet </b> <br>Original text: <br> [Link](https://gist.githubusercontent.com/Bilihh/c34ff949ecca9388c59bdc11364f1bdb/raw/7c687df51400c71f6949ec2d0060d994d43af671/information4) <br>Decoded text: <br> `Reddit has banned u/unscrambled_eggs so I am now using this account.` <br> Deciphered by: <br> [u/sertdfyguhi](https://www.reddit.com/user/sertdfyguhi/) & [u/bilihhh](https://www.reddit.com/user/bilihhh/)\n",
        "\n",
        "\n",
        "def decode_Info4(string):\n",
        "  res = string\n",
        "  res = [chr(i[1]) for i in char_frequency(res)]\n",
        "  return ''.join(res)\n",
        "\n",
        "\n",
        "\n",
        "string = getGithubGist(\"https://gist.githubusercontent.com/Bilihh/c34ff949ecca9388c59bdc11364f1bdb/raw/7c687df51400c71f6949ec2d0060d994d43af671/information4\")\n",
        "\n",
        "print(decode_Info4(string))"
      ],
      "execution_count": null,
      "outputs": []
    },
    {
      "cell_type": "code",
      "metadata": {
        "id": "4yl5HS-9egSe"
      },
      "source": [
        "#@title Post 1\n",
        "#@markdown [Original Post](https://www.reddit.com/r/oakeiaycwig_immk/comments/nwofbj/post_1/) <br> <b> Not decoded Yet </b> <br>Original text: <br> [Link](https://gist.githubusercontent.com/Bilihh/a8547449b922f0b2a533c21748510e3f/raw/c259f04653d9d8fa62268c7c29a728006ee03719/post1.txt) <br>Decoded text: <br> `First post in this subreddit!` <br> Deciphered by: <br> [u/sertdfyguhi](https://www.reddit.com/user/sertdfyguhi/) & [u/bilihhh](https://www.reddit.com/user/bilihhh/)\n",
        "\n",
        "def decode_Post1(string):\n",
        "  res = string\n",
        "  res = [chr(i[1]) for i in char_frequency(res)]\n",
        "  return ''.join(res)\n",
        "\n",
        "\n",
        "\n",
        "string = getGithubGist(\"https://gist.githubusercontent.com/Bilihh/a8547449b922f0b2a533c21748510e3f/raw/c259f04653d9d8fa62268c7c29a728006ee03719/post1.txt\")\n",
        "\n",
        "print(decode_Post1(string))"
      ],
      "execution_count": null,
      "outputs": []
    },
    {
      "cell_type": "code",
      "metadata": {
        "id": "tUpu0ivwehTr"
      },
      "source": [
        "#@title Post 2\n",
        "#@markdown [Original Post](https://www.reddit.com/r/oakeiaycwig_immk/comments/nwrzcp/post_2/) <br> [Decode Post](https://www.reddit.com/r/UnscramblingTheEggs/comments/ny9uwu/the_new_hex_like_posts_in_roakeiaycwig_immk_are/) <br>Original text: <br> [Link](https://gist.githubusercontent.com/Bilihh/f4d8e420a545d243f903649823376610/raw/269ed17f11fe7da59072871908c3f280ac941a6a/post2.txt) <br>Decoded text: <br> `Donuts should not be spelled as doughnuts.` <br> Deciphered by: <br> [u/sertdfyguhi](https://www.reddit.com/user/sertdfyguhi/) & [u/bilihhh](https://www.reddit.com/user/bilihhh/)\n",
        " \n",
        "def decode_Post2(string):\n",
        "  res = colorEncodedText(string)\n",
        "  return res\n",
        " \n",
        " \n",
        " \n",
        "string = getGithubGist(\"https://gist.githubusercontent.com/Bilihh/f4d8e420a545d243f903649823376610/raw/269ed17f11fe7da59072871908c3f280ac941a6a/post2.txt\")\n",
        " \n",
        "print('\\n'.join(decode_Post5(string)))"
      ],
      "execution_count": null,
      "outputs": []
    },
    {
      "cell_type": "code",
      "metadata": {
        "id": "zrlJ6Isgehnc"
      },
      "source": [
        "#@title Post 3\n",
        "#@markdown [Original Post](https://www.reddit.com/r/oakeiaycwig_immk/comments/nx143s/post_3/) <br> [Decode Post](https://www.reddit.com/r/UnscramblingTheEggs/comments/ny9uwu/the_new_hex_like_posts_in_roakeiaycwig_immk_are/) <br>Original text: <br> [Link](https://gist.githubusercontent.com/Bilihh/a2acefda0675ce8024ea8a1d694f99fd/raw/2012e9bab9229efffa4e328e4a7c8d1ffda21cd6/post3.txt) <br>Decoded text: <br> `I have nothing to say.` <br> Deciphered by: <br> [u/sertdfyguhi](https://www.reddit.com/user/sertdfyguhi/) & [u/bilihhh](https://www.reddit.com/user/bilihhh/)\n",
        "\n",
        "def decode_Post3(string):\n",
        "  result = colorEncodedText(string)\n",
        "  return result\n",
        "\n",
        "\n",
        "\n",
        "string = getGithubGist(\"https://gist.githubusercontent.com/Bilihh/a2acefda0675ce8024ea8a1d694f99fd/raw/2012e9bab9229efffa4e328e4a7c8d1ffda21cd6/post3.txt\")\n",
        "\n",
        "\n",
        "print('\\n'.join(decode_Post3(string)))"
      "execution_count": null,
      "outputs": []
    },
    {
      "cell_type": "code",
      "metadata": {
        "id": "9LkFY7a-ehs0"
      },
      "source": [
        "#@title Post 4\n",
        "#@markdown [Original Post](https://www.reddit.com/r/oakeiaycwig_immk/comments/nx8bnw/post_4/) <br> <b> Not decoded Yet </b> <br>Original text: <br> [Link](https://gist.githubusercontent.com/Bilihh/c7c49d27773379ca656c9ab188eacb8d/raw/bb9b9110d3d795f1cfa6259e842a6550a8a3a364/post4.txt) <br>Decoded text: <br> `Why did I get shadowbanned?` <br> Deciphered by: <br> [u/sertdfyguhi](https://www.reddit.com/user/sertdfyguhi/) & [u/bilihhh](https://www.reddit.com/user/bilihhh/)\n",
        "\n",
        "def decode_Post4(string):\n",
        "  res = string\n",
        "  res = [chr(i[1]) for i in char_frequency(res)]\n",
        "  return ''.join(res)\n",
        "\n",
        "\n",
        "\n",
        "string = r'Dc@YwHBXHJee2\\ecL3JD#{={D@aD&2waBD\\a3!=B\"H\"XD\"&Ic#XL\"42eD\"IXeIw!3ce#&w!!#2{\\LD=HDacwI2cIaB3XaXcYe!2L\\Y\"I5eB!I\"5I5BIcHDJaIYLe\"{Ye3JH\\$\\\\\"YBI\"ccB5H\\IL\"&H2a!=&DJX\"D8#&Bw\"Y&=LH\"\\!\"2I4\"@eX!3#a\\\"BC=cX2\\#=LcL8ac\\eH\\!@aH3cI#&HYe3=&DDC55cD2XJX2Dc@&=e$&LH3{!$Hwa&JL4a&YYHaDH2IJ{B#{w3H&XJILIaJc!2\\Y32aHw2BX\"\"@a8\"@82&L!aXeJ\\L@!3@#!D@IHaXBIcH&#aD8DCBX=2IXDB#I@BaL=#He@YHY&4ww3eH=aXBY!\"LCXXaD{waY\"HDeHDB\\!X@eBX@22\\eH435ILLDIX3B=w!w@!aIY\\!\"=3a\"#cc\"\\\\D&8{#HIeJaXJ&{5C83#Bc={Yww=@@cJ3!DB\\{a&Y{#{cc&@w&LDLHLJXY\\4ceHLL\\&\"=!8@\"@D\"I8\"waLeHBacH=##=DJ@HX\\Y@LYLJew@{XX$DDHCLBLYH23De!w2CH5L2D4\\!&5B{#acHXYD&Ha\"J35@3Y3{DD@XYY&D&@a!8Y2X!2a2aLHBD25LXHe4\"2eYw&!#D@Ia@\"YX5HJ&Y\"Jw4!{\\{=2\\!cY\\wa=BwB#c\\#!=$YaYLCIa&HwDeC{\\Da!&Le=YIa!!22#=aBI=H5e3H{@\\D\"2{\"Jaa3&L#@&cB=2Iw35Xe5L$H@B\"3@XY3HBc\"IY#=L8\"J!HL\"eYJD3B=2\"Hw##cIX\"waecCw@c3XXYc@w3wD4YXJX3J2J&\"I$##=c2\"e$\"X4I!wXeYD\\\"DwD4\"HaeJYBB\\cLaBe@wYX$YB2#I2cwLY=L5&3BH&LD=BXa#B=5Ic5LY=wXaD$\\e\"$#&Ye32eaIB#wJ#awXYXwB8aD\\Xa4Y#cI&H$D\"JcB&{#HB=@\"##CJXL!\\YY4wJ#3&@\\wI3eD#H2&eYD#=w3J@{CLwc2Y@\\#J\"2e2J\"\\L@Y&5e!I\\&L8!\\=\\5J{#3\\35LYC=w33#2DcC#25Xe\\Ie3@{aa\\eL#cX@52L=5D!B\\{5B@Xw#&&\"!@&#LBBYcJ5@Y\"DJ8YD!!=2cL@BJLewX&Xa#e2#&5@\"\"\"C3#wYX=!H!\\3Y&BcJ@@IwJ3!wL\\J&aLwcB@3aBe#\\Ja4\"wB\"D5Xa$=I\\@eY25YI2X8L\"Bwa&LL\\JJX&c3\"J@!eB4I!5wa2a#@\\XeL{cJJwce&Iw\\5$\"\\X!BLDw\"LcX&cwL3\\=2=LJX=@Y2#{82aB822YHHJ&HDe&#Yw#a#aH\"\"3=e\\3X2\\JD{{&LHX@LX#\\3c\"!LHI352\"XD!B!Y2!3@{HeLw\\2ac$3w$@YYDL=\"@D#D2{5{5eL3I!I=\"aC4c{@ewB32LaIaDLeBL#@H\\X{=YX2DBea{eD@L\"IwDJYI&&CB5wc=\"&L\\wJ&{I={wDcJ&@2CaH\"!I8L4J\\&IIBc5\\eHID2DL\"\\2wCw#\\5\\32&!eH&Xw{X\\I#=cC@LI#D=&$DI58{I8$#4#cH33wcBH3H&@JBa2w#e@\"@w\"e#e@L2e2c8cLJIBeaYa@Yc#3ce=I{IBHJc{c!X3\"a=H@\"a!HX\\!JcC2I3DJ&\\cX3#a3LcI=cH53&J&HDDY$XDLD#3L#4wXXLDX3XLc2YJa#\\\"H!eXD\\5\"HBX3#4YJ#=&w{8aBc\"&$=B#2I=J@@2\"2aI@#&XB\\5Y2BYD2=e!5c25&D@DBY@{JJLJ=De22\"w==B\"\"HwX\\aXHJILY3aI&\\X3B2Y!!!cc#cH@=4H\\@B#YwJ\"e#&c\"D!&I&e#33cJ!Y$33a&aI5X2a@\"=L@!!c8{JXBXIc3c@J3#c2C\"B2L=&&H=YXawB2IBX&L!=@BJXLJCaXDDJ3eJL@X\\\\H&#X&5#!BB3IcY{aDB3=XXcJ5w$LD3H#wJ{=Dc!\"5XY34!#38X\\LILc&eHB2aL@a\"X88\\25@YDea\\DI=#aI#w@D3#XH\\&J#5!Y3&L4aL#w\\a#IJ5I5XD#\"HBcYYLaBHeXe5LwcHLJa5e#C3\"8I#Jc2{\"DJ\"cBaC3#5\\cDw@53=aH\"c=HX=H2e3{e5Bw2=wJXJe25cBX{5@!L\"Lw=\\LJwJ5aHBI4{2#5BI!@!c\\X8@L=YJJLewC\\BwJ=X{B{#C48$BHB&\\w@2JH$2{YB2Y\"D$X#aHeD=J5YLI3$2=HH38I\\8w{aB5cwYc54ca8IXB5J3w#HBee!eX2D@D=#@@52a#aD$Bc=4a#=IBw2\"#2=$e\"\\!=!3ce#5C&=H\\I$\"&&\\3eIDJIe=X@IIJBcHXJJD\\!X#=C\"cXY2BJ5J&B=Y{&!JD#eHwwDBeB#2D5=L@5c=#=3B&!!\\3IccYw&e3cH4=ac==a=@=#@J{=@&e3DBw5XDB\\w@{&DY=D!X\"DL#&B=!e=&I35@LC{H$eYH@C4\"a#DIe\"L\\#3D2!#{I2B##B{=X=#C{#\\\\L$2&4L##=3BaB!Hc45XH@X\"e!cBX2w#$'\n",
        "\n",
        "print(decode_Post4(string))"
      ],
      "execution_count": null,
      "outputs": []
    },
    {
      "cell_type": "code",
      "metadata": {
        "id": "c7p_FsmyehxY"
      },
      "source": [
        "#@title Post 5\n",
        "#@markdown [Original Post](https://www.reddit.com/r/oakeiaycwig_immk/comments/nxbk1f/post_5/) <br> [Decode Post](https://www.reddit.com/r/UnscramblingTheEggs/comments/ny9uwu/the_new_hex_like_posts_in_roakeiaycwig_immk_are/) <br>Original text: <br> [Link](https://gist.githubusercontent.com/Bilihh/c371b15672d24588d3ae609c583e617e/raw/1e482132d8c4a87da640c39af90a44dd5b930d88/post5.txt) <br>Decoded text: <br> `Twitter is just hell but on a browser.` <br> Deciphered by: <br> [u/sertdfyguhi](https://www.reddit.com/user/sertdfyguhi/) & [u/bilihhh](https://www.reddit.com/user/bilihhh/)\n",
        "\n",
        "def decode_Post5(string):\n",
        "  result = colorEncodedText(string)\n",
        "  return result\n",
        "\n",
        "\n",
        "\n",
        "string = getGithubGist(\"https://gist.githubusercontent.com/Bilihh/c371b15672d24588d3ae609c583e617e/raw/1e482132d8c4a87da640c39af90a44dd5b930d88/post5.txt\")\n",
        "\n",
        "print('\\n'.join(decode_Post5(string)))"
      ],
      "execution_count": null,
      "outputs": []
    },
    {
      "cell_type": "code",
      "metadata": {
        "id": "HVxjUKdbephi"
      },
      "source": [
        "#@title Post 6\n",
        "#@markdown [Original Post](https://www.reddit.com/r/oakeiaycwig_immk/comments/ny08q4/post_6/) <br> <b> Not decoded Yet </b> <br>Original text: <br> [Link](https://gist.githubusercontent.com/Bilihh/8c5273cf449ae8fe82c25cf36e1f33af/raw/ab1eb5e55c6e268bec86d615bbcd261c042a7b97/post6.txt) <br>Decoded text: <br> `https://www.youtube.com/watch?v=j5a0jTc9S10` <br> Deciphered by: <br> [u/sertdfyguhi](https://www.reddit.com/user/sertdfyguhi/) & [u/bilihhh](https://www.reddit.com/user/bilihhh/)\n",
        "\n",
        "def decode_Post6(string):\n",
        "  res = string\n",
        "  res = [chr(i[1]) for i in char_frequency(res)]\n",
        "  return ''.join(res)\n",
        "\n",
        "\n",
        "\n",
        "string = getGithubGist(\"https://gist.githubusercontent.com/Bilihh/8c5273cf449ae8fe82c25cf36e1f33af/raw/ab1eb5e55c6e268bec86d615bbcd261c042a7b97/post6.txt\")\n",
        "print(decode_Post6(string))"
      ],
      "execution_count": null,
      "outputs": []
    }
  ]
}
